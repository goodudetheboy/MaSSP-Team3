{
  "nbformat": 4,
  "nbformat_minor": 0,
  "metadata": {
    "colab": {
      "name": "final camera app",
      "version": "0.3.2",
      "provenance": [],
      "collapsed_sections": []
    },
    "kernelspec": {
      "name": "python3",
      "display_name": "Python 3"
    }
  },
  "cells": [
    {
      "cell_type": "code",
      "metadata": {
        "id": "EQctzOmCYrM3",
        "colab_type": "code",
        "colab": {
          "base_uri": "https://localhost:8080/",
          "height": 121
        },
        "outputId": "1c843585-5eaa-48c9-ee6b-9af1b4fc9956"
      },
      "source": [
        "from google.colab import drive\n",
        "drive.mount('/content/drive')\n",
        "import os, sys, glob\n",
        "\n",
        "os.chdir('/content/drive/My Drive/MaSSP/keras-yolo3')\n",
        "\n",
        "# cd \"/content/drive/My Drive/MaSSP/\""
      ],
      "execution_count": 1,
      "outputs": [
        {
          "output_type": "stream",
          "text": [
            "Go to this URL in a browser: https://accounts.google.com/o/oauth2/auth?client_id=947318989803-6bn6qk8qdgf4n4g3pfee6491hc0brc4i.apps.googleusercontent.com&redirect_uri=urn%3Aietf%3Awg%3Aoauth%3A2.0%3Aoob&scope=email%20https%3A%2F%2Fwww.googleapis.com%2Fauth%2Fdocs.test%20https%3A%2F%2Fwww.googleapis.com%2Fauth%2Fdrive%20https%3A%2F%2Fwww.googleapis.com%2Fauth%2Fdrive.photos.readonly%20https%3A%2F%2Fwww.googleapis.com%2Fauth%2Fpeopleapi.readonly&response_type=code\n",
            "\n",
            "Enter your authorization code:\n",
            "··········\n",
            "Mounted at /content/drive\n"
          ],
          "name": "stdout"
        }
      ]
    },
    {
      "cell_type": "code",
      "metadata": {
        "id": "licZ8c_vY-M-",
        "colab_type": "code",
        "colab": {
          "base_uri": "https://localhost:8080/",
          "height": 406
        },
        "outputId": "164f26aa-0293-48cd-c46e-e465e77011f8"
      },
      "source": [
        "from yolo import YOLO\n",
        "\n",
        "kwargs = {\n",
        "    \"model_path\": \"model_data/yolo3-spp.h5\",\n",
        "    \"anchors_path\": \"model_data/yolo_anchors.txt\",\n",
        "    \"classes_path\": \"model_data/coco_classes.txt\",\n",
        "    \"score\": 0.35,\n",
        "    \"iou\": 0.5,\n",
        "    \"model_image_size\": (1024, 1024),\n",
        "    \"gpu_num\": 1,\n",
        "}\n",
        "model = YOLO(**kwargs)\n",
        "# YOLO(model_path, anchors_path, ..., gpu_num)\n",
        "from yolo3.utils import letterbox_image\n",
        "from keras import backend as K\n",
        "\n",
        "class ObjDetector:\n",
        "    def __init__(self):\n",
        "        self.model = YOLO(\n",
        "            model_path=\"model_data/yolo3-spp.h5\",\n",
        "            anchors_path=\"model_data/yolo_anchors.txt\",\n",
        "            classes_path=\"model_data/coco_classes.txt\",\n",
        "            score=0.3,\n",
        "            iou=0.45,\n",
        "            model_image_size=(1024, 1024),\n",
        "            gpu_num=1,\n",
        "        )\n",
        "    \n",
        "    def detect(self, image, item):\n",
        "        if self.model.model_image_size != (None, None):\n",
        "            assert self.model.model_image_size[0]%32 == 0, 'Multiples of 32 required'\n",
        "            assert self.model.model_image_size[1]%32 == 0, 'Multiples of 32 required'\n",
        "            boxed_image = letterbox_image(image, tuple(reversed(self.model.model_image_size)))\n",
        "        else:\n",
        "            new_image_size = (image.width - (image.width % 32),\n",
        "                              image.height - (image.height % 32))\n",
        "            boxed_image = letterbox_image(image, new_image_size)\n",
        "        image_data = np.array(boxed_image, dtype='float32')\n",
        "        \n",
        "        image_data /= 255.\n",
        "        image_data = np.expand_dims(image_data, 0)  # Add batch dimension.\n",
        "\n",
        "        out_boxes, out_scores, out_classes = self.model.sess.run(\n",
        "            [self.model.boxes, self.model.scores, self.model.classes],\n",
        "            feed_dict={\n",
        "                self.model.yolo_model.input: image_data,\n",
        "                self.model.input_image_shape: [image.size[1], image.size[0]],\n",
        "                K.learning_phase(): 0\n",
        "            })\n",
        "        self.visualize(image, out_boxes, out_scores, out_classes, item)\n",
        "        return out_boxes, out_scores, out_classes, item\n",
        "    \n",
        "    def visualize(self, image, out_boxes, out_scores, out_classes, item):\n",
        "        image = np.array(image)\n",
        "        for i, c in reversed(list(enumerate(out_classes))):\n",
        "           if item == c+1:\n",
        "              predicted_class = self.model.class_names[c]\n",
        "              box = out_boxes[i]\n",
        "              score = out_scores[i]\n",
        "\n",
        "              label = '{} {:.2f}'.format(predicted_class, score)\n",
        "\n",
        "              top, left, bottom, right = box\n",
        "              top = max(0, np.floor(top + 0.5).astype('int32'))\n",
        "              left = max(0, np.floor(left + 0.5).astype('int32'))\n",
        "              bottom = min(image.shape[0], np.floor(bottom + 0.5).astype('int32'))\n",
        "              right = min(image.shape[1], np.floor(right + 0.5).astype('int32'))\n",
        "              print(label, (left, top), (right, bottom))\n",
        "              cv2.putText(image,label,(left,top), cv2.FONT_HERSHEY_PLAIN, 2,(255,255,0),3,cv2.LINE_AA)\n",
        "              cv2.rectangle(image,(left,top),(right,bottom),(0,255,0),3)\n",
        "              plt.imshow(image)\n",
        "              plt.show()"
      ],
      "execution_count": 2,
      "outputs": [
        {
          "output_type": "stream",
          "text": [
            "Using TensorFlow backend.\n",
            "WARNING: Logging before flag parsing goes to stderr.\n",
            "W0710 00:59:39.640955 140635985237888 deprecation_wrapper.py:119] From /usr/local/lib/python3.6/dist-packages/keras/backend/tensorflow_backend.py:174: The name tf.get_default_session is deprecated. Please use tf.compat.v1.get_default_session instead.\n",
            "\n",
            "W0710 00:59:39.642998 140635985237888 deprecation_wrapper.py:119] From /usr/local/lib/python3.6/dist-packages/keras/backend/tensorflow_backend.py:181: The name tf.ConfigProto is deprecated. Please use tf.compat.v1.ConfigProto instead.\n",
            "\n",
            "W0710 00:59:39.650857 140635985237888 deprecation_wrapper.py:119] From /usr/local/lib/python3.6/dist-packages/keras/backend/tensorflow_backend.py:186: The name tf.Session is deprecated. Please use tf.compat.v1.Session instead.\n",
            "\n",
            "W0710 00:59:39.776749 140635985237888 deprecation_wrapper.py:119] From /usr/local/lib/python3.6/dist-packages/keras/backend/tensorflow_backend.py:190: The name tf.global_variables is deprecated. Please use tf.compat.v1.global_variables instead.\n",
            "\n",
            "W0710 00:59:40.246114 140635985237888 deprecation_wrapper.py:119] From /usr/local/lib/python3.6/dist-packages/keras/backend/tensorflow_backend.py:517: The name tf.placeholder is deprecated. Please use tf.compat.v1.placeholder instead.\n",
            "\n",
            "W0710 00:59:40.587277 140635985237888 deprecation_wrapper.py:119] From /usr/local/lib/python3.6/dist-packages/keras/backend/tensorflow_backend.py:1834: The name tf.nn.fused_batch_norm is deprecated. Please use tf.compat.v1.nn.fused_batch_norm instead.\n",
            "\n",
            "W0710 00:59:46.235286 140635985237888 deprecation_wrapper.py:119] From /usr/local/lib/python3.6/dist-packages/keras/backend/tensorflow_backend.py:3976: The name tf.nn.max_pool is deprecated. Please use tf.nn.max_pool2d instead.\n",
            "\n",
            "W0710 00:59:46.636973 140635985237888 deprecation_wrapper.py:119] From /usr/local/lib/python3.6/dist-packages/keras/backend/tensorflow_backend.py:2018: The name tf.image.resize_nearest_neighbor is deprecated. Please use tf.compat.v1.image.resize_nearest_neighbor instead.\n",
            "\n"
          ],
          "name": "stderr"
        },
        {
          "output_type": "stream",
          "text": [
            "model_data/yolo3-spp.h5 model, anchors, and classes loaded.\n"
          ],
          "name": "stdout"
        },
        {
          "output_type": "stream",
          "text": [
            "W0710 01:00:02.252464 140635985237888 deprecation.py:323] From /usr/local/lib/python3.6/dist-packages/tensorflow/python/ops/array_ops.py:1354: add_dispatch_support.<locals>.wrapper (from tensorflow.python.ops.array_ops) is deprecated and will be removed in a future version.\n",
            "Instructions for updating:\n",
            "Use tf.where in 2.0, which has the same broadcast rule as np.where\n"
          ],
          "name": "stderr"
        }
      ]
    },
    {
      "cell_type": "code",
      "metadata": {
        "id": "R-F-lo6MZMvi",
        "colab_type": "code",
        "colab": {}
      },
      "source": [
        ""
      ],
      "execution_count": 0,
      "outputs": []
    },
    {
      "cell_type": "code",
      "metadata": {
        "id": "jw82KkTyZPuP",
        "colab_type": "code",
        "colab": {}
      },
      "source": [
        "from IPython.display import display, Javascript\n",
        "from google.colab.output import eval_js\n",
        "from base64 import b64decode\n",
        "\n",
        "def take_photo(filename='photo.jpg', quality=0.8):\n",
        "  js = Javascript('''\n",
        "    async function takePhoto(quality) {\n",
        "      const div = document.createElement('div');\n",
        "      const capture = document.createElement('button');\n",
        "      capture.textContent = 'Capture';\n",
        "      div.appendChild(capture);\n",
        "\n",
        "      const video = document.createElement('video');\n",
        "      video.style.display = 'block';\n",
        "      const stream = await navigator.mediaDevices.getUserMedia({video: true});\n",
        "\n",
        "      document.body.appendChild(div);\n",
        "      div.appendChild(video);\n",
        "      video.srcObject = stream;\n",
        "      await video.play();\n",
        "\n",
        "      // Resize the output to fit the video element.\n",
        "      google.colab.output.setIframeHeight(document.documentElement.scrollHeight, true);\n",
        "\n",
        "      // Wait for Capture to be clicked.\n",
        "      await new Promise((resolve) => capture.onclick = resolve);\n",
        "\n",
        "      const canvas = document.createElement('canvas');\n",
        "      canvas.width = video.videoWidth;\n",
        "      canvas.height = video.videoHeight;\n",
        "      canvas.getContext('2d').drawImage(video, 0, 0);\n",
        "      stream.getVideoTracks()[0].stop();\n",
        "      div.remove();\n",
        "      return canvas.toDataURL('image/jpeg', quality);\n",
        "    }\n",
        "    ''')\n",
        "  display(js)\n",
        "  data = eval_js('takePhoto({})'.format(quality))\n",
        "  binary = b64decode(data.split(',')[1])\n",
        "  with open(filename, 'wb') as f:\n",
        "    f.write(binary)\n",
        "  return filename\n"
      ],
      "execution_count": 0,
      "outputs": []
    },
    {
      "cell_type": "code",
      "metadata": {
        "id": "w7ki7JLKaXHO",
        "colab_type": "code",
        "colab": {}
      },
      "source": [
        "import matplotlib.pyplot as plt\n",
        "import numpy as np\n",
        "import cv2\n",
        "from PIL import Image\n",
        "detector = ObjDetector()"
      ],
      "execution_count": 0,
      "outputs": []
    },
    {
      "cell_type": "code",
      "metadata": {
        "id": "P5UIVaXFZPst",
        "colab_type": "code",
        "colab": {
          "base_uri": "https://localhost:8080/",
          "height": 598
        },
        "outputId": "38ada758-fa5b-433b-ac37-9d2fda3b7baf"
      },
      "source": [
        "from IPython.display import Image\n",
        "take_pic = 'h'\n",
        "while take_pic[0].lower() != 't' and take_pic[0].lower() != 'i':\n",
        "  take_pic = input('would you like to take a picture or import your own? Enter take or import ')\n",
        "  print(take_pic[0].lower())\n",
        "if take_pic[0] == 'i':\n",
        "  path = '../'+input('please enter name of your photo: ')\n",
        "  from PIL import Image\n",
        "  image = Image.open(path)\n",
        "  item_No = int(input('please pick an item number: '))\n",
        "  results = detector.detect(image, item_No)\n",
        "else:\n",
        "  try:\n",
        "    filename = take_photo()\n",
        "    print('Saved to {}'.format(filename))\n",
        "\n",
        "    # Show the image which was just taken.\n",
        "    display(Image(filename))\n",
        "    from PIL import Image\n",
        "    path = './photo.jpg'\n",
        "    image = Image.open(path)\n",
        "    item_No = int(input('please pick an item number '))\n",
        "    results = detector.detect(image, item_No)\n",
        "  except Exception as err:\n",
        "    # Errors will be thrown if the user does not have a webcam or if they do not\n",
        "    # grant the page permission to access it.\n",
        "    print(str(err))"
      ],
      "execution_count": 27,
      "outputs": [
        {
          "output_type": "stream",
          "text": [
            "would you like to take a picture or import your own? Enter take or import p\n",
            "p\n",
            "would you like to take a picture or import your own? Enter take or import t\n",
            "t\n"
          ],
          "name": "stdout"
        },
        {
          "output_type": "display_data",
          "data": {
            "application/javascript": [
              "\n",
              "    async function takePhoto(quality) {\n",
              "      const div = document.createElement('div');\n",
              "      const capture = document.createElement('button');\n",
              "      capture.textContent = 'Capture';\n",
              "      div.appendChild(capture);\n",
              "\n",
              "      const video = document.createElement('video');\n",
              "      video.style.display = 'block';\n",
              "      const stream = await navigator.mediaDevices.getUserMedia({video: true});\n",
              "\n",
              "      document.body.appendChild(div);\n",
              "      div.appendChild(video);\n",
              "      video.srcObject = stream;\n",
              "      await video.play();\n",
              "\n",
              "      // Resize the output to fit the video element.\n",
              "      google.colab.output.setIframeHeight(document.documentElement.scrollHeight, true);\n",
              "\n",
              "      // Wait for Capture to be clicked.\n",
              "      await new Promise((resolve) => capture.onclick = resolve);\n",
              "\n",
              "      const canvas = document.createElement('canvas');\n",
              "      canvas.width = video.videoWidth;\n",
              "      canvas.height = video.videoHeight;\n",
              "      canvas.getContext('2d').drawImage(video, 0, 0);\n",
              "      stream.getVideoTracks()[0].stop();\n",
              "      div.remove();\n",
              "      return canvas.toDataURL('image/jpeg', quality);\n",
              "    }\n",
              "    "
            ],
            "text/plain": [
              "<IPython.core.display.Javascript object>"
            ]
          },
          "metadata": {
            "tags": []
          }
        },
        {
          "output_type": "stream",
          "text": [
            "Saved to photo.jpg\n"
          ],
          "name": "stdout"
        },
        {
          "output_type": "display_data",
          "data": {
            "image/jpeg": "[encoded data removed]",
            "text/plain": [
              "<IPython.core.display.Image object>"
            ]
          },
          "metadata": {
            "tags": []
          }
        },
        {
          "output_type": "stream",
          "text": [
            "please pick an item number 1\n"
          ],
          "name": "stdout"
        }
      ]
    }
  ]
}